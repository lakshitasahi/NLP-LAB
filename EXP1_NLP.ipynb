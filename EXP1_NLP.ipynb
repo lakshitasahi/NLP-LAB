{
  "nbformat": 4,
  "nbformat_minor": 0,
  "metadata": {
    "colab": {
      "provenance": []
    },
    "kernelspec": {
      "name": "python3",
      "display_name": "Python 3"
    },
    "language_info": {
      "name": "python"
    }
  },
  "cells": [
    {
      "cell_type": "code",
      "execution_count": 4,
      "metadata": {
        "colab": {
          "base_uri": "https://localhost:8080/"
        },
        "id": "S7pQH-9gePhr",
        "outputId": "943b7344-8d0a-48b3-f8ca-1ce97c9ad68b"
      },
      "outputs": [
        {
          "output_type": "stream",
          "name": "stdout",
          "text": [
            "Requirement already satisfied: nltk in /usr/local/lib/python3.10/dist-packages (3.8.1)\n",
            "Requirement already satisfied: click in /usr/local/lib/python3.10/dist-packages (from nltk) (8.1.7)\n",
            "Requirement already satisfied: joblib in /usr/local/lib/python3.10/dist-packages (from nltk) (1.3.2)\n",
            "Requirement already satisfied: regex>=2021.8.3 in /usr/local/lib/python3.10/dist-packages (from nltk) (2023.12.25)\n",
            "Requirement already satisfied: tqdm in /usr/local/lib/python3.10/dist-packages (from nltk) (4.66.1)\n"
          ]
        },
        {
          "output_type": "stream",
          "name": "stderr",
          "text": [
            "[nltk_data] Downloading package punkt to /root/nltk_data...\n",
            "[nltk_data]   Unzipping tokenizers/punkt.zip.\n"
          ]
        },
        {
          "output_type": "stream",
          "name": "stdout",
          "text": [
            "['He', 'will', 'save', 'and', 'invest', 'for', 'his', 'retirement']\n"
          ]
        }
      ],
      "source": [
        "# Install the nltk module\n",
        "!pip install nltk\n",
        "\n",
        "# Download the punkt package\n",
        "import nltk\n",
        "nltk.download('punkt')\n",
        "\n",
        "# Tokenize the text\n",
        "from nltk import word_tokenize\n",
        "\n",
        "x = \"He will save and invest for his retirement\"\n",
        "tokens = word_tokenize(x)\n",
        "\n",
        "# Print the tokens\n",
        "print(tokens)"
      ]
    },
    {
      "cell_type": "code",
      "source": [
        "from nltk.tokenize import WordPunctTokenizer\n",
        "\n",
        "WordPunctTokenizer().tokenize(x)"
      ],
      "metadata": {
        "colab": {
          "base_uri": "https://localhost:8080/"
        },
        "id": "82wxnPEAfIwD",
        "outputId": "b99d28c2-12dd-4ab2-ff32-b69d2f95792e"
      },
      "execution_count": 5,
      "outputs": [
        {
          "output_type": "execute_result",
          "data": {
            "text/plain": [
              "['He', 'will', 'save', 'and', 'invest', 'for', 'his', 'retirement']"
            ]
          },
          "metadata": {},
          "execution_count": 5
        }
      ]
    },
    {
      "cell_type": "code",
      "source": [
        "from nltk.tokenize import RegexpTokenizer\n",
        "\n",
        "tokenizer= RegexpTokenizer(\"[\\w]+\")\n",
        "tokenizer.tokenize(x)"
      ],
      "metadata": {
        "colab": {
          "base_uri": "https://localhost:8080/"
        },
        "id": "dVTvbLGGgLob",
        "outputId": "075cbe90-3172-455d-aba3-ebca0f5e61db"
      },
      "execution_count": 6,
      "outputs": [
        {
          "output_type": "execute_result",
          "data": {
            "text/plain": [
              "['He', 'will', 'save', 'and', 'invest', 'for', 'his', 'retirement']"
            ]
          },
          "metadata": {},
          "execution_count": 6
        }
      ]
    },
    {
      "cell_type": "code",
      "source": [
        "from nltk import sent_tokenize, word_tokenize\n",
        "text=\"NLTK is a leading platform for building Python Programs with human language data. It provides easy-to-use int\"\n",
        "\n",
        "sent_tokenize(text)"
      ],
      "metadata": {
        "colab": {
          "base_uri": "https://localhost:8080/"
        },
        "id": "EfHu31GKhAH5",
        "outputId": "61e66960-559e-4930-b274-ff55b7974027"
      },
      "execution_count": 10,
      "outputs": [
        {
          "output_type": "execute_result",
          "data": {
            "text/plain": [
              "['NLTK is a leading platform for building Python Programs with human language data.',\n",
              " 'It provides easy-to-use int']"
            ]
          },
          "metadata": {},
          "execution_count": 10
        }
      ]
    },
    {
      "cell_type": "code",
      "source": [
        "word_tokenize(text)"
      ],
      "metadata": {
        "colab": {
          "base_uri": "https://localhost:8080/"
        },
        "id": "HzpnMM_Dh81o",
        "outputId": "8706dc73-1d1b-4c5b-868d-2228fd71d2b1"
      },
      "execution_count": 11,
      "outputs": [
        {
          "output_type": "execute_result",
          "data": {
            "text/plain": [
              "['NLTK',\n",
              " 'is',\n",
              " 'a',\n",
              " 'leading',\n",
              " 'platform',\n",
              " 'for',\n",
              " 'building',\n",
              " 'Python',\n",
              " 'Programs',\n",
              " 'with',\n",
              " 'human',\n",
              " 'language',\n",
              " 'data',\n",
              " '.',\n",
              " 'It',\n",
              " 'provides',\n",
              " 'easy-to-use',\n",
              " 'int']"
            ]
          },
          "metadata": {},
          "execution_count": 11
        }
      ]
    },
    {
      "cell_type": "code",
      "source": [
        "# Create a string\n",
        "string = \"hello world\"\n",
        "\n",
        "# Split the string into a list using the space character as the delimiter\n",
        "list_of_words = string.split(\" \")\n",
        "\n",
        "# Print the list of words\n",
        "print(list_of_words)"
      ],
      "metadata": {
        "colab": {
          "base_uri": "https://localhost:8080/"
        },
        "id": "RFb2_WW2ercC",
        "outputId": "0641df5e-45f6-4cd1-d86b-665b5823c109"
      },
      "execution_count": 12,
      "outputs": [
        {
          "output_type": "stream",
          "name": "stdout",
          "text": [
            "['hello', 'world']\n"
          ]
        }
      ]
    }
  ]
}